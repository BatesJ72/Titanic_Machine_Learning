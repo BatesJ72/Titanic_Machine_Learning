{
 "cells": [
  {
   "cell_type": "code",
   "execution_count": 1,
   "metadata": {},
   "outputs": [],
   "source": [
    "# %load_ext lab_black"
   ]
  },
  {
   "cell_type": "code",
   "execution_count": 2,
   "metadata": {},
   "outputs": [],
   "source": [
    "import pandas as pd\n",
    "import numpy as np\n",
    "from matplotlib import pyplot as plt\n",
    "\n",
    "from sklearn.compose import ColumnTransformer\n",
    "from sklearn.preprocessing import OneHotEncoder\n",
    "from sklearn.model_selection import train_test_split\n",
    "from sklearn.pipeline import make_pipeline\n",
    "\n",
    "from sklearn.dummy import DummyClassifier\n",
    "from sklearn.linear_model import LogisticRegression\n",
    "from sklearn.tree import DecisionTreeClassifier\n",
    "from sklearn.ensemble import RandomForestClassifier\n",
    "\n",
    "from sklearn.metrics import classification_report\n",
    "from sklearn.metrics import accuracy_score"
   ]
  },
  {
   "cell_type": "code",
   "execution_count": 3,
   "metadata": {},
   "outputs": [
    {
     "ename": "FileNotFoundError",
     "evalue": "[Errno 2] No such file or directory: 'train.csv'",
     "output_type": "error",
     "traceback": [
      "\u001b[1;31m---------------------------------------------------------------------------\u001b[0m",
      "\u001b[1;31mFileNotFoundError\u001b[0m                         Traceback (most recent call last)",
      "\u001b[1;32m<ipython-input-3-80c7a4bbebde>\u001b[0m in \u001b[0;36m<module>\u001b[1;34m\u001b[0m\n\u001b[0;32m      1\u001b[0m \u001b[1;31m# read in data\u001b[0m\u001b[1;33m\u001b[0m\u001b[1;33m\u001b[0m\u001b[1;33m\u001b[0m\u001b[0m\n\u001b[1;32m----> 2\u001b[1;33m \u001b[0mdf\u001b[0m \u001b[1;33m=\u001b[0m \u001b[0mpd\u001b[0m\u001b[1;33m.\u001b[0m\u001b[0mread_csv\u001b[0m\u001b[1;33m(\u001b[0m\u001b[1;34m\"train.csv\"\u001b[0m\u001b[1;33m)\u001b[0m\u001b[1;33m\u001b[0m\u001b[1;33m\u001b[0m\u001b[0m\n\u001b[0m",
      "\u001b[1;32m~\\anaconda3\\lib\\site-packages\\pandas\\io\\parsers.py\u001b[0m in \u001b[0;36mread_csv\u001b[1;34m(filepath_or_buffer, sep, delimiter, header, names, index_col, usecols, squeeze, prefix, mangle_dupe_cols, dtype, engine, converters, true_values, false_values, skipinitialspace, skiprows, skipfooter, nrows, na_values, keep_default_na, na_filter, verbose, skip_blank_lines, parse_dates, infer_datetime_format, keep_date_col, date_parser, dayfirst, cache_dates, iterator, chunksize, compression, thousands, decimal, lineterminator, quotechar, quoting, doublequote, escapechar, comment, encoding, dialect, error_bad_lines, warn_bad_lines, delim_whitespace, low_memory, memory_map, float_precision)\u001b[0m\n\u001b[0;32m    684\u001b[0m     )\n\u001b[0;32m    685\u001b[0m \u001b[1;33m\u001b[0m\u001b[0m\n\u001b[1;32m--> 686\u001b[1;33m     \u001b[1;32mreturn\u001b[0m \u001b[0m_read\u001b[0m\u001b[1;33m(\u001b[0m\u001b[0mfilepath_or_buffer\u001b[0m\u001b[1;33m,\u001b[0m \u001b[0mkwds\u001b[0m\u001b[1;33m)\u001b[0m\u001b[1;33m\u001b[0m\u001b[1;33m\u001b[0m\u001b[0m\n\u001b[0m\u001b[0;32m    687\u001b[0m \u001b[1;33m\u001b[0m\u001b[0m\n\u001b[0;32m    688\u001b[0m \u001b[1;33m\u001b[0m\u001b[0m\n",
      "\u001b[1;32m~\\anaconda3\\lib\\site-packages\\pandas\\io\\parsers.py\u001b[0m in \u001b[0;36m_read\u001b[1;34m(filepath_or_buffer, kwds)\u001b[0m\n\u001b[0;32m    450\u001b[0m \u001b[1;33m\u001b[0m\u001b[0m\n\u001b[0;32m    451\u001b[0m     \u001b[1;31m# Create the parser.\u001b[0m\u001b[1;33m\u001b[0m\u001b[1;33m\u001b[0m\u001b[1;33m\u001b[0m\u001b[0m\n\u001b[1;32m--> 452\u001b[1;33m     \u001b[0mparser\u001b[0m \u001b[1;33m=\u001b[0m \u001b[0mTextFileReader\u001b[0m\u001b[1;33m(\u001b[0m\u001b[0mfp_or_buf\u001b[0m\u001b[1;33m,\u001b[0m \u001b[1;33m**\u001b[0m\u001b[0mkwds\u001b[0m\u001b[1;33m)\u001b[0m\u001b[1;33m\u001b[0m\u001b[1;33m\u001b[0m\u001b[0m\n\u001b[0m\u001b[0;32m    453\u001b[0m \u001b[1;33m\u001b[0m\u001b[0m\n\u001b[0;32m    454\u001b[0m     \u001b[1;32mif\u001b[0m \u001b[0mchunksize\u001b[0m \u001b[1;32mor\u001b[0m \u001b[0miterator\u001b[0m\u001b[1;33m:\u001b[0m\u001b[1;33m\u001b[0m\u001b[1;33m\u001b[0m\u001b[0m\n",
      "\u001b[1;32m~\\anaconda3\\lib\\site-packages\\pandas\\io\\parsers.py\u001b[0m in \u001b[0;36m__init__\u001b[1;34m(self, f, engine, **kwds)\u001b[0m\n\u001b[0;32m    944\u001b[0m             \u001b[0mself\u001b[0m\u001b[1;33m.\u001b[0m\u001b[0moptions\u001b[0m\u001b[1;33m[\u001b[0m\u001b[1;34m\"has_index_names\"\u001b[0m\u001b[1;33m]\u001b[0m \u001b[1;33m=\u001b[0m \u001b[0mkwds\u001b[0m\u001b[1;33m[\u001b[0m\u001b[1;34m\"has_index_names\"\u001b[0m\u001b[1;33m]\u001b[0m\u001b[1;33m\u001b[0m\u001b[1;33m\u001b[0m\u001b[0m\n\u001b[0;32m    945\u001b[0m \u001b[1;33m\u001b[0m\u001b[0m\n\u001b[1;32m--> 946\u001b[1;33m         \u001b[0mself\u001b[0m\u001b[1;33m.\u001b[0m\u001b[0m_make_engine\u001b[0m\u001b[1;33m(\u001b[0m\u001b[0mself\u001b[0m\u001b[1;33m.\u001b[0m\u001b[0mengine\u001b[0m\u001b[1;33m)\u001b[0m\u001b[1;33m\u001b[0m\u001b[1;33m\u001b[0m\u001b[0m\n\u001b[0m\u001b[0;32m    947\u001b[0m \u001b[1;33m\u001b[0m\u001b[0m\n\u001b[0;32m    948\u001b[0m     \u001b[1;32mdef\u001b[0m \u001b[0mclose\u001b[0m\u001b[1;33m(\u001b[0m\u001b[0mself\u001b[0m\u001b[1;33m)\u001b[0m\u001b[1;33m:\u001b[0m\u001b[1;33m\u001b[0m\u001b[1;33m\u001b[0m\u001b[0m\n",
      "\u001b[1;32m~\\anaconda3\\lib\\site-packages\\pandas\\io\\parsers.py\u001b[0m in \u001b[0;36m_make_engine\u001b[1;34m(self, engine)\u001b[0m\n\u001b[0;32m   1176\u001b[0m     \u001b[1;32mdef\u001b[0m \u001b[0m_make_engine\u001b[0m\u001b[1;33m(\u001b[0m\u001b[0mself\u001b[0m\u001b[1;33m,\u001b[0m \u001b[0mengine\u001b[0m\u001b[1;33m=\u001b[0m\u001b[1;34m\"c\"\u001b[0m\u001b[1;33m)\u001b[0m\u001b[1;33m:\u001b[0m\u001b[1;33m\u001b[0m\u001b[1;33m\u001b[0m\u001b[0m\n\u001b[0;32m   1177\u001b[0m         \u001b[1;32mif\u001b[0m \u001b[0mengine\u001b[0m \u001b[1;33m==\u001b[0m \u001b[1;34m\"c\"\u001b[0m\u001b[1;33m:\u001b[0m\u001b[1;33m\u001b[0m\u001b[1;33m\u001b[0m\u001b[0m\n\u001b[1;32m-> 1178\u001b[1;33m             \u001b[0mself\u001b[0m\u001b[1;33m.\u001b[0m\u001b[0m_engine\u001b[0m \u001b[1;33m=\u001b[0m \u001b[0mCParserWrapper\u001b[0m\u001b[1;33m(\u001b[0m\u001b[0mself\u001b[0m\u001b[1;33m.\u001b[0m\u001b[0mf\u001b[0m\u001b[1;33m,\u001b[0m \u001b[1;33m**\u001b[0m\u001b[0mself\u001b[0m\u001b[1;33m.\u001b[0m\u001b[0moptions\u001b[0m\u001b[1;33m)\u001b[0m\u001b[1;33m\u001b[0m\u001b[1;33m\u001b[0m\u001b[0m\n\u001b[0m\u001b[0;32m   1179\u001b[0m         \u001b[1;32melse\u001b[0m\u001b[1;33m:\u001b[0m\u001b[1;33m\u001b[0m\u001b[1;33m\u001b[0m\u001b[0m\n\u001b[0;32m   1180\u001b[0m             \u001b[1;32mif\u001b[0m \u001b[0mengine\u001b[0m \u001b[1;33m==\u001b[0m \u001b[1;34m\"python\"\u001b[0m\u001b[1;33m:\u001b[0m\u001b[1;33m\u001b[0m\u001b[1;33m\u001b[0m\u001b[0m\n",
      "\u001b[1;32m~\\anaconda3\\lib\\site-packages\\pandas\\io\\parsers.py\u001b[0m in \u001b[0;36m__init__\u001b[1;34m(self, src, **kwds)\u001b[0m\n\u001b[0;32m   2006\u001b[0m         \u001b[0mkwds\u001b[0m\u001b[1;33m[\u001b[0m\u001b[1;34m\"usecols\"\u001b[0m\u001b[1;33m]\u001b[0m \u001b[1;33m=\u001b[0m \u001b[0mself\u001b[0m\u001b[1;33m.\u001b[0m\u001b[0musecols\u001b[0m\u001b[1;33m\u001b[0m\u001b[1;33m\u001b[0m\u001b[0m\n\u001b[0;32m   2007\u001b[0m \u001b[1;33m\u001b[0m\u001b[0m\n\u001b[1;32m-> 2008\u001b[1;33m         \u001b[0mself\u001b[0m\u001b[1;33m.\u001b[0m\u001b[0m_reader\u001b[0m \u001b[1;33m=\u001b[0m \u001b[0mparsers\u001b[0m\u001b[1;33m.\u001b[0m\u001b[0mTextReader\u001b[0m\u001b[1;33m(\u001b[0m\u001b[0msrc\u001b[0m\u001b[1;33m,\u001b[0m \u001b[1;33m**\u001b[0m\u001b[0mkwds\u001b[0m\u001b[1;33m)\u001b[0m\u001b[1;33m\u001b[0m\u001b[1;33m\u001b[0m\u001b[0m\n\u001b[0m\u001b[0;32m   2009\u001b[0m         \u001b[0mself\u001b[0m\u001b[1;33m.\u001b[0m\u001b[0munnamed_cols\u001b[0m \u001b[1;33m=\u001b[0m \u001b[0mself\u001b[0m\u001b[1;33m.\u001b[0m\u001b[0m_reader\u001b[0m\u001b[1;33m.\u001b[0m\u001b[0munnamed_cols\u001b[0m\u001b[1;33m\u001b[0m\u001b[1;33m\u001b[0m\u001b[0m\n\u001b[0;32m   2010\u001b[0m \u001b[1;33m\u001b[0m\u001b[0m\n",
      "\u001b[1;32mpandas\\_libs\\parsers.pyx\u001b[0m in \u001b[0;36mpandas._libs.parsers.TextReader.__cinit__\u001b[1;34m()\u001b[0m\n",
      "\u001b[1;32mpandas\\_libs\\parsers.pyx\u001b[0m in \u001b[0;36mpandas._libs.parsers.TextReader._setup_parser_source\u001b[1;34m()\u001b[0m\n",
      "\u001b[1;31mFileNotFoundError\u001b[0m: [Errno 2] No such file or directory: 'train.csv'"
     ]
    }
   ],
   "source": [
    "# read in data\n",
    "df = pd.read_csv(\"train.csv\")"
   ]
  },
  {
   "cell_type": "code",
   "execution_count": null,
   "metadata": {},
   "outputs": [],
   "source": [
    "df.dtypes"
   ]
  },
  {
   "cell_type": "code",
   "execution_count": null,
   "metadata": {},
   "outputs": [],
   "source": [
    "df.head()"
   ]
  },
  {
   "cell_type": "code",
   "execution_count": null,
   "metadata": {},
   "outputs": [],
   "source": [
    "#rename headers\n",
    "\n",
    "df = df.rename(columns = {\n",
    "    \"PassengerId\": \"passenger_id\",\n",
    "    \"Survived\": \"survived\",\n",
    "    \"Pclass\": \"ticket_class\",\n",
    "    \"Name\": \"name\",\n",
    "    \"Sex\": \"sex\",\n",
    "    \"Age\": \"age\",\n",
    "    \"SibSp\": \"siblings_spouses\",\n",
    "    \"Parch\": \"parents_children\",\n",
    "    \"Ticket\": \"ticket_num\",\n",
    "    \"Fare\": \"fare\",\n",
    "    \"Cabin\": \"cabin\",\n",
    "    \"Embarked\": \"embarked_port\"\n",
    "})\n",
    "# .sort_values(by='fare')\n",
    "\n",
    "df.head()"
   ]
  },
  {
   "cell_type": "code",
   "execution_count": null,
   "metadata": {},
   "outputs": [],
   "source": [
    "#count NaNs\n",
    "\n",
    "df.isna().sum()"
   ]
  },
  {
   "cell_type": "code",
   "execution_count": null,
   "metadata": {},
   "outputs": [],
   "source": [
    "# Fill cabin NaNs \n",
    "\n",
    "pd.set_option('display.max_rows', None)\n",
    "\n",
    "# Third\tE, G\n",
    "# Second\tD, E\n",
    "# First\tA, B, C, D, E\n",
    "\n",
    "# Deck\t# of Rooms\n",
    "# Boat\t6\n",
    "# A\t36\n",
    "# B\t101\n",
    "# C\t134\n",
    "# D\t49\n",
    "# E\t45\n",
    "\n",
    "\n",
    "conditions = [\n",
    "    (df['fare'] % 2 == 0) & (df['ticket_class'] == 1),\n",
    "    (df['fare'] % 2 != 0) & (df['ticket_class'] == 1),\n",
    "    (df['fare'] % 2 == 0) & (df['ticket_class'] == 2),\n",
    "    (df['fare'] % 2 != 0) & (df['ticket_class'] == 2),\n",
    "    (df['fare'] % 2 == 0) & (df['ticket_class'] == 3),\n",
    "    (df['fare'] % 2 != 0) & (df['ticket_class'] == 3)]\n",
    "choices = ['C', 'B', 'E', 'D', 'E', 'G']\n",
    "df['cabin'] = np.select(conditions, choices, default='A')\n",
    "\n",
    "df\n",
    "\n"
   ]
  },
  {
   "cell_type": "code",
   "execution_count": null,
   "metadata": {},
   "outputs": [],
   "source": [
    "# df['cabin'] = df['cabin'].str[:1]"
   ]
  },
  {
   "cell_type": "code",
   "execution_count": null,
   "metadata": {},
   "outputs": [],
   "source": [
    "# df['cabin']"
   ]
  },
  {
   "cell_type": "code",
   "execution_count": null,
   "metadata": {},
   "outputs": [],
   "source": [
    "# Replace NaNs in age with average\n",
    "\n",
    "# df['age'].mean()\n",
    "# df['age'].median()\n",
    "\n",
    "df['age'] = df['age'].fillna(29.7)\n",
    "\n",
    "df.head()"
   ]
  },
  {
   "cell_type": "code",
   "execution_count": null,
   "metadata": {},
   "outputs": [],
   "source": [
    "# Fill in embarked port NaNs randomly\n",
    "\n",
    "df['embarked_port'] = df['embarked_port'].fillna(method = 'ffill')"
   ]
  },
  {
   "cell_type": "code",
   "execution_count": null,
   "metadata": {},
   "outputs": [],
   "source": [
    "#count NaNs\n",
    "\n",
    "df.isna().sum()"
   ]
  },
  {
   "cell_type": "code",
   "execution_count": null,
   "metadata": {},
   "outputs": [],
   "source": [
    "#check outputs \n",
    "df[\"survived\"].value_counts()"
   ]
  },
  {
   "cell_type": "code",
   "execution_count": null,
   "metadata": {},
   "outputs": [],
   "source": [
    "df.boxplot(column = 'age')"
   ]
  },
  {
   "cell_type": "code",
   "execution_count": null,
   "metadata": {},
   "outputs": [],
   "source": [
    "# create bins for age\n",
    "\n",
    "df['age_bucket'] = pd.qcut(df['age'], 5)"
   ]
  },
  {
   "cell_type": "code",
   "execution_count": null,
   "metadata": {},
   "outputs": [],
   "source": [
    "df['age_bucket'].value_counts()"
   ]
  },
  {
   "cell_type": "code",
   "execution_count": null,
   "metadata": {},
   "outputs": [],
   "source": [
    "# Create plots showing difference in survival rates by age\n",
    "\n",
    "# ax = df.plot.bar(x='age_bucket', y='survived', rot=0)\n",
    "\n",
    "# if survived == 0:\n",
    "#     df.hist(bins=3)\n"
   ]
  },
  {
   "cell_type": "code",
   "execution_count": null,
   "metadata": {},
   "outputs": [],
   "source": [
    "df.head()"
   ]
  },
  {
   "cell_type": "code",
   "execution_count": null,
   "metadata": {},
   "outputs": [],
   "source": [
    "# Drop unused columns\n",
    "df = df.drop(['passenger_id', 'name', 'age_bucket', 'ticket_num'], axis = 1)\n",
    "# df = df.drop(['passenger_id'], axis = 1)\n",
    "# df = df.drop(['name'], axis = 1)\n",
    "# df = df.drop(['age_bucket'], axis = 1)"
   ]
  },
  {
   "cell_type": "code",
   "execution_count": null,
   "metadata": {},
   "outputs": [],
   "source": [
    "# Reconfigure ticket_class \n",
    "df = df.assign(ticket_class=lambda df: df[\"ticket_class\"].replace({1: \"First\", 2: \"Second\", 3: \"Third\"}))"
   ]
  },
  {
   "cell_type": "code",
   "execution_count": null,
   "metadata": {},
   "outputs": [],
   "source": [
    "# Set target\n",
    "\n",
    "target = df[\"survived\"]\n",
    "\n",
    "y = target\n",
    "X = df.drop(['survived'], axis=1)"
   ]
  },
  {
   "cell_type": "code",
   "execution_count": null,
   "metadata": {},
   "outputs": [],
   "source": [
    "X.columns"
   ]
  },
  {
   "cell_type": "code",
   "execution_count": null,
   "metadata": {},
   "outputs": [],
   "source": [
    "y[:5]"
   ]
  },
  {
   "cell_type": "code",
   "execution_count": null,
   "metadata": {},
   "outputs": [],
   "source": [
    "X.columns"
   ]
  },
  {
   "cell_type": "code",
   "execution_count": null,
   "metadata": {},
   "outputs": [],
   "source": [
    "# Original - all features - scores 77-79 \n",
    "# cf = ColumnTransformer(\n",
    "#     [\n",
    "#         (\"numerical\", \"passthrough\", [\"fare\", \"age\", \"siblings_spouses\", \"parents_children\"],),\n",
    "#         ('\"categorical\"', OneHotEncoder(drop=\"first\"), [\"ticket_class\", \"sex\", \"cabin\", \"embarked_port\"]),\n",
    "#     ]\n",
    "# )\n",
    "\n",
    "# V1 - scores 74-82 *best\n",
    "# cf = ColumnTransformer(\n",
    "#     [\n",
    "#         (\"numerical\", \"passthrough\", [\"fare\", \"age\"],),\n",
    "#         ('\"categorical\"', OneHotEncoder(drop=\"first\"), [\"ticket_class\", \"sex\", \"cabin\"]),\n",
    "#     ]\n",
    "# )\n",
    "\n",
    "# V2 - scores 76-81\n",
    "# cf = ColumnTransformer(\n",
    "#     [\n",
    "#         (\"numerical\", \"passthrough\", [\"fare\"],),\n",
    "#         ('\"categorical\"', OneHotEncoder(drop=\"first\"), [\"ticket_class\", \"sex\"]),\n",
    "#     ]\n",
    "# )\n",
    "\n",
    "\n",
    "# V3 - scores 77-80\n",
    "# cf = ColumnTransformer(\n",
    "#     [\n",
    "#         (\"numerical\", \"passthrough\", [\"age\"],),\n",
    "#         ('\"categorical\"', OneHotEncoder(drop=\"first\"), [\"ticket_class\", \"sex\", \"cabin\"]),\n",
    "#     ]\n",
    "# )\n",
    "\n",
    "# V4 - scores 74-81\n",
    "# cf = ColumnTransformer(\n",
    "#     [\n",
    "#         (\"numerical\", \"passthrough\", [\"fare\", \"age\", \"siblings_spouses\"],),\n",
    "#         ('\"categorical\"', OneHotEncoder(drop=\"first\"), [\"ticket_class\", \"sex\", \"cabin\"]),\n",
    "#     ]\n",
    "# )\n",
    "\n",
    "\n",
    "# V5 - scores 76-80\n",
    "# cf = ColumnTransformer(\n",
    "#     [\n",
    "#         (\"numerical\", \"passthrough\", [\"fare\", \"age\", \"parents_children\"],),\n",
    "#         ('\"categorical\"', OneHotEncoder(drop=\"first\"), [\"ticket_class\", \"sex\", \"cabin\"]),\n",
    "#     ]\n",
    "# )\n",
    "\n",
    "\n",
    "# V6 - scores 77-80\n",
    "# cf = ColumnTransformer(\n",
    "#     [\n",
    "#         (\"numerical\", \"passthrough\", [\"age\"],),\n",
    "#         ('\"categorical\"', OneHotEncoder(drop=\"first\"), [\"ticket_class\", \"sex\", \"cabin\"]),\n",
    "#     ]\n",
    "# )\n",
    "\n",
    "# V6 - scores 76-79\n",
    "# cf = ColumnTransformer(\n",
    "#     [\n",
    "#         (\"numerical\", \"passthrough\", [\"age\"],),\n",
    "#         ('\"categorical\"', OneHotEncoder(drop=\"first\"), [\"sex\", \"cabin\"]),\n",
    "#     ]\n",
    "# )\n",
    "\n",
    "\n",
    "# V7 - scores 78-80\n",
    "# cf = ColumnTransformer(\n",
    "#     [\n",
    "#         (\"numerical\", \"passthrough\", [\"age\"],),\n",
    "#         ('\"categorical\"', OneHotEncoder(drop=\"first\"), [\"ticket_class\", \"sex\"]),\n",
    "#     ]\n",
    "# )\n",
    "\n",
    "\n",
    "# V7 - scores 74-77\n",
    "# cf = ColumnTransformer(\n",
    "#     [\n",
    "#         (\"numerical\", \"passthrough\", [\"age\"],),\n",
    "#         ('\"categorical\"', OneHotEncoder(drop=\"first\"), [\"sex\"]),\n",
    "#     ]\n",
    "# )\n",
    "\n",
    "# V8 - scores59-62\n",
    "# cf = ColumnTransformer(\n",
    "#     [\n",
    "#         (\"numerical\", \"passthrough\", [\"age\"],),\n",
    "#     ]\n",
    "# )\n",
    "\n",
    "# V9 - scores 76-77\n",
    "# cf = ColumnTransformer(\n",
    "#     [\n",
    "#         ('\"categorical\"', OneHotEncoder(drop=\"first\"), [\"sex\"]),\n",
    "#     ]\n",
    "# )\n",
    "\n",
    "\n",
    "# V10 - scores 63-67\n",
    "# cf = ColumnTransformer(\n",
    "#     [\n",
    "#         ('\"categorical\"', OneHotEncoder(drop=\"first\"), [\"ticket_class\"]),\n",
    "#     ]\n",
    "# )\n",
    "\n",
    "\n",
    "# V11 - scores 64-66\n",
    "# cf = ColumnTransformer(\n",
    "#     [\n",
    "#         ('\"categorical\"', OneHotEncoder(drop=\"first\"), [\"cabin\"]),\n",
    "#     ]\n",
    "# )\n",
    "\n",
    "\n",
    "# V12 - 63-66\n",
    "# cf = ColumnTransformer(\n",
    "#     [\n",
    "#         (\"numerical\", \"passthrough\", [\"fare\"],),\n",
    "#     ]\n",
    "# )\n",
    "\n",
    "\n",
    "# V13 - 61-64\n",
    "# cf = ColumnTransformer(\n",
    "#     [\n",
    "#         (\"numerical\", \"passthrough\", [\"siblings_spouses\"],),\n",
    "#     ]\n",
    "# )\n",
    "\n",
    "\n",
    "# v14 - 59-61\n",
    "# cf = ColumnTransformer(\n",
    "#     [\n",
    "#         (\"numerical\", \"passthrough\", [\"parents_children\"],),\n",
    "#     ]\n",
    "# )\n",
    "\n",
    "\n",
    "# V15 - 62\n",
    "# cf = ColumnTransformer(\n",
    "#     [\n",
    "#         ('\"categorical\"', OneHotEncoder(drop=\"first\"), [\"embarked_port\"]),\n",
    "#     ]\n",
    "# )\n",
    "\n",
    "\n",
    "# V16 - 76-81\n",
    "# cf = ColumnTransformer(\n",
    "#     [\n",
    "#         (\"numerical\", \"passthrough\", [\"fare\"],),\n",
    "#         ('\"categorical\"', OneHotEncoder(drop=\"first\"), [\"ticket_class\", \"sex\", \"cabin\"]),\n",
    "#     ]\n",
    "# )\n",
    "\n",
    "\n",
    "# V17 - 77\n",
    "# cf = ColumnTransformer(\n",
    "#     [\n",
    "#         ('\"categorical\"', OneHotEncoder(drop=\"first\"), [\"sex\", \"cabin\"]),\n",
    "#     ]\n",
    "# )\n",
    "\n",
    "\n",
    "# V18 - 77\n",
    "# cf = ColumnTransformer(\n",
    "#     [\n",
    "#         ('\"categorical\"', OneHotEncoder(drop=\"first\"), [\"ticket_class\", \"sex\", \"cabin\"]),\n",
    "#     ]\n",
    "# )\n",
    "\n",
    "\n",
    "# V19 - 77-81\n",
    "# cf = ColumnTransformer(\n",
    "#     [\n",
    "#         (\"numerical\", \"passthrough\", [\"fare\", \"siblings_spouses\"],),\n",
    "#         ('\"categorical\"', OneHotEncoder(drop=\"first\"), [\"ticket_class\", \"sex\", \"cabin\"]),\n",
    "#     ]\n",
    "# )"
   ]
  },
  {
   "cell_type": "code",
   "execution_count": null,
   "metadata": {},
   "outputs": [],
   "source": [
    "# Highest Scores\n",
    "\n",
    "# V19 - 77-81\n",
    "# cf = ColumnTransformer(\n",
    "#     [\n",
    "#         (\"numerical\", \"passthrough\", [\"fare\", \"siblings_spouses\"],),\n",
    "#         ('\"categorical\"', OneHotEncoder(drop=\"first\"), [\"ticket_class\", \"sex\", \"cabin\"]),\n",
    "#     ]\n",
    "# )\n",
    "\n",
    "\n",
    "# V16 - 76-81\n",
    "# cf = ColumnTransformer(\n",
    "#     [\n",
    "#         (\"numerical\", \"passthrough\", [\"fare\"],),\n",
    "#         ('\"categorical\"', OneHotEncoder(drop=\"first\"), [\"ticket_class\", \"sex\", \"cabin\"]),\n",
    "#     ]\n",
    "# )\n",
    "\n",
    "\n",
    "# V7 - scores 78-80\n",
    "# cf = ColumnTransformer(\n",
    "#     [\n",
    "#         (\"numerical\", \"passthrough\", [\"age\"],),\n",
    "#         ('\"categorical\"', OneHotEncoder(drop=\"first\"), [\"ticket_class\", \"sex\"]),\n",
    "#     ]\n",
    "# )\n",
    "\n",
    "\n",
    "\n",
    "# V1 - scores 74-82 *best - random forest\n",
    "cf = ColumnTransformer(\n",
    "    [\n",
    "        (\"numerical\", \"passthrough\", [\"fare\", \"age\"],),\n",
    "        ('\"categorical\"', OneHotEncoder(drop=\"first\"), [\"ticket_class\", \"sex\", \"cabin\"]),\n",
    "    ]\n",
    ")\n",
    "\n",
    "\n",
    "\n",
    "# V4 - scores 74-81\n",
    "# cf = ColumnTransformer(\n",
    "#     [\n",
    "#         (\"numerical\", \"passthrough\", [\"fare\", \"age\", \"siblings_spouses\"],),\n",
    "#         ('\"categorical\"', OneHotEncoder(drop=\"first\"), [\"ticket_class\", \"sex\", \"cabin\"]),\n",
    "#     ]\n",
    "# )\n",
    "\n",
    "\n",
    "# V5 - scores 76-80\n",
    "# cf = ColumnTransformer(\n",
    "#     [\n",
    "#         (\"numerical\", \"passthrough\", [\"fare\", \"age\", \"parents_children\"],),\n",
    "#         ('\"categorical\"', OneHotEncoder(drop=\"first\"), [\"ticket_class\", \"sex\", \"cabin\"]),\n",
    "#     ]\n",
    "# )\n"
   ]
  },
  {
   "cell_type": "code",
   "execution_count": null,
   "metadata": {},
   "outputs": [],
   "source": [
    "X_train, X_test, y_train, y_test = train_test_split(X, y, random_state=42, stratify=y)"
   ]
  },
  {
   "cell_type": "code",
   "execution_count": null,
   "metadata": {},
   "outputs": [],
   "source": [
    "# Dummy Classifier\n",
    "\n",
    "d_pipeline = make_pipeline(cf, DummyClassifier())\n",
    "d_pipeline.fit(X_train, y_train)\n",
    "y_test_pred_dc = d_pipeline.predict(X_test)\n",
    "print(classification_report(y_test, y_test_pred_dc))"
   ]
  },
  {
   "cell_type": "code",
   "execution_count": null,
   "metadata": {},
   "outputs": [],
   "source": [
    "# accuracy score for Dummy Classifier\n",
    "\n",
    "accuracy_score(y_test, y_test_pred_dc)"
   ]
  },
  {
   "cell_type": "code",
   "execution_count": null,
   "metadata": {},
   "outputs": [],
   "source": [
    "# Logistic Regression Model\n",
    "\n",
    "lr_pipeline = make_pipeline(cf, LogisticRegression(max_iter=1000))\n",
    "lr_pipeline.fit(X_train, y_train)\n",
    "y_test_pred_lr = lr_pipeline.predict(X_test)\n",
    "print(classification_report(y_test, y_test_pred_lr))"
   ]
  },
  {
   "cell_type": "code",
   "execution_count": null,
   "metadata": {},
   "outputs": [],
   "source": [
    "# accuracy score for Logistic Regression Model\n",
    "\n",
    "accuracy_score(y_test, y_test_pred_lr)"
   ]
  },
  {
   "cell_type": "code",
   "execution_count": null,
   "metadata": {},
   "outputs": [],
   "source": [
    "# Decision Tree Model (unpruned)\n",
    "\n",
    "dt_pipeline = make_pipeline(cf, DecisionTreeClassifier())\n",
    "dt_pipeline.fit(X_train, y_train)\n",
    "y_test_pred_dt = dt_pipeline.predict(X_test)\n",
    "print(classification_report(y_test, y_test_pred_dt))"
   ]
  },
  {
   "cell_type": "code",
   "execution_count": null,
   "metadata": {},
   "outputs": [],
   "source": [
    "# accuracy score for decision tree model (unpruned)\n",
    "\n",
    "accuracy_score(y_test, y_test_pred_dt)"
   ]
  },
  {
   "cell_type": "code",
   "execution_count": null,
   "metadata": {},
   "outputs": [],
   "source": [
    "# Prune the tree - entropy\n",
    "\n",
    "dt_pipeline_p2 = make_pipeline(cf, DecisionTreeClassifier(criterion=\"entropy\"))\n",
    "dt_pipeline_p2.fit(X_train, y_train)\n",
    "y_test_pred_dt_p2 = dt_pipeline_p2.predict(X_test)\n",
    "print(\"Criterion=entropy\", classification_report(y_test, y_test_pred_dt_p2))"
   ]
  },
  {
   "cell_type": "code",
   "execution_count": null,
   "metadata": {},
   "outputs": [],
   "source": [
    "# accuracy score for decision tree model using entropy\n",
    "\n",
    "accuracy_score(y_test, y_test_pred_dt_p2)"
   ]
  },
  {
   "cell_type": "code",
   "execution_count": null,
   "metadata": {},
   "outputs": [],
   "source": [
    "# Prune the tree - loop to find best depth\n",
    "\n",
    "max_depth_dt = []\n",
    "acc_gini_dt = []\n",
    "acc_entropy_dt = []\n",
    "for i in range(1, 30):\n",
    "    dt_pipeline_p3 = make_pipeline(\n",
    "        cf, DecisionTreeClassifier(criterion=\"gini\", max_depth=i)\n",
    "    )\n",
    "    dt_pipeline_p3.fit(X_train, y_train)\n",
    "    pred_g_dt = dt_pipeline_p3.predict(X_test)\n",
    "    acc_gini_dt.append(accuracy_score(y_test, pred_g_dt))\n",
    "\n",
    "    dt_pipeline_p4 = make_pipeline(\n",
    "        cf, DecisionTreeClassifier(criterion=\"entropy\", max_depth=i)\n",
    "    )\n",
    "    dt_pipeline_p4.fit(X_train, y_train)\n",
    "    pred_e_dt = dt_pipeline_p4.predict(X_test)\n",
    "    acc_entropy_dt.append(accuracy_score(y_test, pred_e_dt))\n",
    "\n",
    "    max_depth_dt.append(i)\n",
    "\n",
    "df_dt = pd.DataFrame(\n",
    "    {\n",
    "        \"acc_gini_dt\": pd.Series(acc_gini_dt),\n",
    "        \"acc_entropy_dt\": pd.Series(acc_entropy_dt),\n",
    "        \"max_depth_dt\": pd.Series(max_depth_dt),\n",
    "    }\n",
    ")\n",
    "\n",
    "# visualizing changes in parameters\n",
    "plt.plot(\"max_depth_dt\", \"acc_gini_dt\", data=df_dt, label=\"gini\")\n",
    "plt.plot(\"max_depth_dt\", \"acc_entropy_dt\", data=df_dt, label=\"entropy\")\n",
    "plt.xlabel(\"Depth\")\n",
    "plt.ylabel(\"Accuracy Score\")\n",
    "plt.legend()"
   ]
  },
  {
   "cell_type": "code",
   "execution_count": null,
   "metadata": {},
   "outputs": [],
   "source": [
    "# Pruned tree \n",
    "\n",
    "dt_p_fin = make_pipeline(cf, DecisionTreeClassifier(criterion=\"gini\", max_depth=5))\n",
    "dt_p_fin.fit(X_train, y_train)\n",
    "y_test_pred_dt_p_fin = dt_p_fin.predict(X_test)\n",
    "print(\"Criterion=gini\", classification_report(y_test, y_test_pred_dt_p_fin))"
   ]
  },
  {
   "cell_type": "code",
   "execution_count": null,
   "metadata": {},
   "outputs": [],
   "source": [
    "# accuracy score for decision tree model pruned \n",
    "\n",
    "accuracy_score(y_test, y_test_pred_dt_p_fin)"
   ]
  },
  {
   "cell_type": "code",
   "execution_count": null,
   "metadata": {},
   "outputs": [],
   "source": [
    "# Random Forest Model\n",
    "\n",
    "rf_pipeline = make_pipeline(cf, RandomForestClassifier(n_estimators=10000))\n",
    "rf_pipeline.fit(X_train, y_train)\n",
    "y_test_pred_rf = rf_pipeline.predict(X_test)\n",
    "print(classification_report(y_test, y_test_pred_rf))"
   ]
  },
  {
   "cell_type": "code",
   "execution_count": null,
   "metadata": {},
   "outputs": [],
   "source": [
    "# accuracy score for random forest model \n",
    "\n",
    "accuracy_score(y_test, y_test_pred_rf)"
   ]
  },
  {
   "cell_type": "code",
   "execution_count": null,
   "metadata": {},
   "outputs": [],
   "source": []
  }
 ],
 "metadata": {
  "kernelspec": {
   "display_name": "Python 3",
   "language": "python",
   "name": "python3"
  },
  "language_info": {
   "codemirror_mode": {
    "name": "ipython",
    "version": 3
   },
   "file_extension": ".py",
   "mimetype": "text/x-python",
   "name": "python",
   "nbconvert_exporter": "python",
   "pygments_lexer": "ipython3",
   "version": "3.8.5"
  }
 },
 "nbformat": 4,
 "nbformat_minor": 4
}
